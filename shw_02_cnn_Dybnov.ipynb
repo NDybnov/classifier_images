{
  "cells": [
    {
      "cell_type": "markdown",
      "metadata": {
        "id": "w35Q6hOIy4sk"
      },
      "source": [
        "# Глубинное обучение 1 / Введение в глубинное обучение, ФКН ВШЭ\n",
        "\n",
        "## Домашнее задание 2: сверточный классификатор.\n",
        "\n",
        "### Общая информация\n",
        "\n",
        "Оценка после штрафа после мягкого дедлайна вычисляется по формуле $M_{\\text{penalty}} = M_{\\text{full}} \\cdot 0.85^{t/1440}$, где $M_{\\text{full}}$ — полная оценка за работу без учета штрафа, а $t$ — время в минутах, прошедшее после мягкого дедлайна (округление до двух цифр после запятой). Таким образом, спустя первые сутки после мягкого дедлайна вы не можете получить оценку выше 8.5, а если сдать через четыре дня после мягкого дедлайна, то ваш максимум — 5.22 балла.\n",
        "\n",
        "### Оценивание и штрафы\n",
        "\n",
        "Максимально допустимая оценка за работу — 10 баллов. Сдавать задание после указанного срока сдачи нельзя.\n",
        "\n",
        "Задание выполняется самостоятельно. «Похожие» решения считаются плагиатом и все задействованные студенты (в том числе те, у кого списали) не могут получить за него больше 0 баллов. Если вы нашли решение какого-то из заданий (или его часть) в открытом источнике, необходимо указать ссылку на этот источник в отдельном блоке в конце вашей работы (скорее всего вы будете не единственным, кто это нашел, поэтому чтобы исключить подозрение в плагиате, необходима ссылка на источник).\n",
        "\n",
        "Неэффективная реализация кода может негативно отразиться на оценке. Также оценка может быть снижена за плохо читаемый код и плохо оформленные графики. Все ответы должны сопровождаться кодом или комментариями о том, как они были получены.\n",
        "\n",
        "### О задании\n",
        "\n",
        "В этом задании вам предстоит познакомиться со сверточными сетями и их обучением для классификации изображений с использованием библиотеки PyTorch.\n"
      ]
    },
    {
      "cell_type": "code",
      "execution_count": 9,
      "metadata": {
        "id": "SaACifdX2QOo"
      },
      "outputs": [],
      "source": [
        "import torch\n",
        "import torch.nn as nn\n",
        "import torch.nn.functional as F\n",
        "import torch.optim as optim\n",
        "import torchvision\n",
        "import torchvision.transforms as transforms\n",
        "\n",
        "import matplotlib.pyplot as plt\n",
        "import numpy as np\n",
        "\n",
        "from sklearn.model_selection import train_test_split"
      ]
    },
    {
      "cell_type": "markdown",
      "metadata": {
        "id": "TIXaUYM-0JFl"
      },
      "source": [
        "## 0. Загрузка данных\n",
        "\n",
        "Работать мы будем с набором данных [CIFAR10](https://www.cs.toronto.edu/~kriz/cifar.html). CIFAR10 представляет собой набор изображений 32х32 пикселя, разделенных на 10 классов.\n",
        "\n",
        "![title](https://pytorch.org/tutorials/_images/cifar10.png)\n",
        "\n",
        "\n"
      ]
    },
    {
      "cell_type": "markdown",
      "metadata": {
        "id": "g-0EEjl_10vB"
      },
      "source": [
        "Набор данных уже определен в <code>torchvision.datasets</code>, так что возьмем его оттуда. \n",
        "\n"
      ]
    },
    {
      "cell_type": "code",
      "execution_count": 11,
      "metadata": {
        "id": "Cbwe92dT3aPZ"
      },
      "outputs": [],
      "source": [
        "def get_cifar10_data(batch_size, transform_train):\n",
        "    torch.manual_seed(0)\n",
        "    np.random.seed(0)\n",
        "\n",
        "    transform_test = transforms.Compose(\n",
        "        [transforms.ToTensor(),\n",
        "         # Переводим цвета пикселей в отрезок [-1, 1]\n",
        "         transforms.Normalize((0.5, 0.5, 0.5), (0.5, 0.5, 0.5))]\n",
        "    )\n",
        "    \n",
        "    # Загружаем данные\n",
        "    trainvalset = torchvision.datasets.CIFAR10(root='./data', train=True,\n",
        "                                               download=True, transform=transform_train)\n",
        "    testset = torchvision.datasets.CIFAR10(root='./data', train=False,\n",
        "                                           download=True, transform=transform_test)\n",
        "    \n",
        "    # В датасете определено разбиение только на train и test,\n",
        "    # так что валидацию дополнительно выделяем из обучающей выборки\n",
        "    train_idx, valid_idx = train_test_split(np.arange(len(trainvalset)), test_size=0.3, \n",
        "                                            shuffle=True, random_state=0)\n",
        "    trainset = torch.utils.data.Subset(trainvalset, train_idx)\n",
        "    valset = torch.utils.data.Subset(trainvalset, valid_idx)\n",
        "\n",
        "    train_loader = torch.utils.data.DataLoader(trainset, batch_size=batch_size,\n",
        "                                               shuffle=True, num_workers=2)\n",
        "    val_loader = torch.utils.data.DataLoader(valset, batch_size=batch_size,\n",
        "                                             shuffle=False, num_workers=2)\n",
        "    test_loader = torch.utils.data.DataLoader(testset, batch_size=batch_size,\n",
        "                                              shuffle=False, num_workers=2)\n",
        "    \n",
        "    return train_loader, val_loader, test_loader\n",
        "    "
      ]
    },
    {
      "cell_type": "code",
      "execution_count": 12,
      "metadata": {
        "colab": {
          "base_uri": "https://localhost:8080/"
        },
        "id": "2G2rLnN5y6Jj",
        "outputId": "48996a34-be7e-4c8f-e76d-f0ec9860b5b1"
      },
      "outputs": [
        {
          "output_type": "stream",
          "name": "stdout",
          "text": [
            "Files already downloaded and verified\n",
            "Files already downloaded and verified\n"
          ]
        }
      ],
      "source": [
        "transform = transforms.Compose(\n",
        "        [transforms.ToTensor(),\n",
        "         transforms.Normalize((0.5, 0.5, 0.5), (0.5, 0.5, 0.5))]\n",
        ")\n",
        "\n",
        "train_loader, val_loader, test_loader = get_cifar10_data(batch_size=64, \n",
        "                                                         transform_train=transform)"
      ]
    },
    {
      "cell_type": "markdown",
      "metadata": {
        "id": "-82HWgXs77W1"
      },
      "source": [
        "Посмотрим на изображения:"
      ]
    },
    {
      "cell_type": "code",
      "execution_count": 8,
      "metadata": {
        "colab": {
          "base_uri": "https://localhost:8080/",
          "height": 235
        },
        "id": "ACnwaC5iy6L2",
        "outputId": "fde0eab0-87f6-48f1-eeba-f9cdf0554a47"
      },
      "outputs": [
        {
          "output_type": "error",
          "ename": "AttributeError",
          "evalue": "ignored",
          "traceback": [
            "\u001b[0;31m---------------------------------------------------------------------------\u001b[0m",
            "\u001b[0;31mAttributeError\u001b[0m                            Traceback (most recent call last)",
            "\u001b[0;32m<ipython-input-8-7b70836d9582>\u001b[0m in \u001b[0;36m<module>\u001b[0;34m\u001b[0m\n\u001b[1;32m      7\u001b[0m \u001b[0;34m\u001b[0m\u001b[0m\n\u001b[1;32m      8\u001b[0m \u001b[0mdataiter\u001b[0m \u001b[0;34m=\u001b[0m \u001b[0miter\u001b[0m\u001b[0;34m(\u001b[0m\u001b[0mtrain_loader\u001b[0m\u001b[0;34m)\u001b[0m\u001b[0;34m\u001b[0m\u001b[0;34m\u001b[0m\u001b[0m\n\u001b[0;32m----> 9\u001b[0;31m \u001b[0mimages\u001b[0m\u001b[0;34m,\u001b[0m \u001b[0mlabels\u001b[0m \u001b[0;34m=\u001b[0m \u001b[0mdataiter\u001b[0m\u001b[0;34m.\u001b[0m\u001b[0mnext\u001b[0m\u001b[0;34m(\u001b[0m\u001b[0;34m)\u001b[0m\u001b[0;34m\u001b[0m\u001b[0;34m\u001b[0m\u001b[0m\n\u001b[0m\u001b[1;32m     10\u001b[0m \u001b[0;34m\u001b[0m\u001b[0m\n\u001b[1;32m     11\u001b[0m \u001b[0mimshow\u001b[0m\u001b[0;34m(\u001b[0m\u001b[0mtorchvision\u001b[0m\u001b[0;34m.\u001b[0m\u001b[0mutils\u001b[0m\u001b[0;34m.\u001b[0m\u001b[0mmake_grid\u001b[0m\u001b[0;34m(\u001b[0m\u001b[0mimages\u001b[0m\u001b[0;34m[\u001b[0m\u001b[0;34m:\u001b[0m\u001b[0;36m4\u001b[0m\u001b[0;34m]\u001b[0m\u001b[0;34m)\u001b[0m\u001b[0;34m)\u001b[0m\u001b[0;34m\u001b[0m\u001b[0;34m\u001b[0m\u001b[0m\n",
            "\u001b[0;31mAttributeError\u001b[0m: '_MultiProcessingDataLoaderIter' object has no attribute 'next'"
          ]
        }
      ],
      "source": [
        "def imshow(img):\n",
        "    img = img / 2 + 0.5    \n",
        "    npimg = img.numpy()\n",
        "    plt.imshow(np.transpose(npimg, (1, 2, 0)))\n",
        "    plt.show()\n",
        "\n",
        "\n",
        "dataiter = iter(train_loader)\n",
        "images, labels = dataiter.next()\n",
        "\n",
        "imshow(torchvision.utils.make_grid(images[:4]))\n",
        "\n",
        "classes = ('plane', 'car', 'bird', 'cat',\n",
        "           'deer', 'dog', 'frog', 'horse', 'ship', 'truck')\n",
        "print(*[classes[labels[i]] for i in range(4)])"
      ]
    },
    {
      "cell_type": "markdown",
      "metadata": {
        "id": "KFDilng29YZ_"
      },
      "source": [
        "## 1. Задание сверточной сети (3 балла)"
      ]
    },
    {
      "cell_type": "markdown",
      "metadata": {
        "id": "OX7Ul8YbYdQR"
      },
      "source": [
        "Теперь нам нужно задать сверточную нейронную сеть, которую мы будем обучать классифицировать изображения.\n",
        "\n",
        "Используем сеть, основанную на одном блоке архитектуры ResNet.\n",
        "\n",
        "<img src=\"https://i.ibb.co/2hg962h/basic-block.png\" width=\"500\"/>\n",
        "\n",
        "__Указания:__\n",
        "\n",
        "- Все сверточные слои должны иметь 32 выходных канала, а также не должны изменять ширину и высоту изображения.\n",
        "- Выход блока сократите до размерности 32х4х4, применив average pooling.\n",
        "- Для получения итоговых логитов, распрямите выход пулинга в вектор из 512 элементов, а затем пропустите его через линейный слой."
      ]
    },
    {
      "cell_type": "markdown",
      "metadata": {
        "id": "sbyIylT9O9Dr"
      },
      "source": [
        "**Задание 1.1 (3 балла).**\n",
        "\n",
        "Определите архитектуру сети соответственно схеме и указаниям выше.\n",
        "\n",
        "Ключевые слова: <code>Conv2d</code>, <code>BatchNorm2d</code>, <code>AvgPool2d</code>."
      ]
    },
    {
      "cell_type": "code",
      "execution_count": 13,
      "metadata": {
        "id": "s9ml1QGKy6N9"
      },
      "outputs": [],
      "source": [
        "n_classes = 10\n",
        "\n",
        "class BasicBlockNet(nn.Module):\n",
        "    def __init__(self):\n",
        "        super().__init__()\n",
        "\n",
        "        self.res_size = 16 * 32\n",
        "        self.first_layer = nn.Sequential(\n",
        "            nn.Conv2d(in_channels=3, out_channels=32, kernel_size=3, padding='same'),\n",
        "            nn.BatchNorm2d(32),\n",
        "            nn.ReLU(),\n",
        "            nn.Conv2d(in_channels=32, out_channels=32, kernel_size=3, padding='same'),\n",
        "            nn.BatchNorm2d(32))\n",
        "        self.conv1x1 = nn.Conv2d(in_channels=3, out_channels=32, kernel_size=1)\n",
        "        self.last_layer = nn.Sequential(\n",
        "            nn.ReLU(),\n",
        "            nn.AvgPool2d(8)\n",
        "        )\n",
        "        self.fc = nn.Linear(in_features=self.res_size, out_features=n_classes)\n",
        "\n",
        "    def forward(self, x):\n",
        "        result = self.last_layer(self.first_layer(x) + self.conv1x1(x))\n",
        "        result = self.fc(result.reshape(x.shape[0], self.res_size))\n",
        "        return result"
      ]
    },
    {
      "cell_type": "code",
      "execution_count": 14,
      "metadata": {
        "id": "FI4BQg7Ky6Pw",
        "colab": {
          "base_uri": "https://localhost:8080/"
        },
        "outputId": "47019e7c-7b90-4cca-c185-6e129eae27fb"
      },
      "outputs": [
        {
          "output_type": "execute_result",
          "data": {
            "text/plain": [
              "BasicBlockNet(\n",
              "  (first_layer): Sequential(\n",
              "    (0): Conv2d(3, 32, kernel_size=(3, 3), stride=(1, 1), padding=same)\n",
              "    (1): BatchNorm2d(32, eps=1e-05, momentum=0.1, affine=True, track_running_stats=True)\n",
              "    (2): ReLU()\n",
              "    (3): Conv2d(32, 32, kernel_size=(3, 3), stride=(1, 1), padding=same)\n",
              "    (4): BatchNorm2d(32, eps=1e-05, momentum=0.1, affine=True, track_running_stats=True)\n",
              "  )\n",
              "  (conv1x1): Conv2d(3, 32, kernel_size=(1, 1), stride=(1, 1))\n",
              "  (last_layer): Sequential(\n",
              "    (0): ReLU()\n",
              "    (1): AvgPool2d(kernel_size=8, stride=8, padding=0)\n",
              "  )\n",
              "  (fc): Linear(in_features=512, out_features=10, bias=True)\n",
              ")"
            ]
          },
          "metadata": {},
          "execution_count": 14
        }
      ],
      "source": [
        "net = BasicBlockNet()\n",
        "net"
      ]
    },
    {
      "cell_type": "markdown",
      "metadata": {
        "id": "igPoGZEub8d3"
      },
      "source": [
        "Проверим, что выход сети имеет корректную размерность:"
      ]
    },
    {
      "cell_type": "code",
      "execution_count": 15,
      "metadata": {
        "id": "cCIzFUpJ_Agw"
      },
      "outputs": [],
      "source": [
        "assert net(torch.zeros((10, 3, 32, 32))).shape == (10, 10)"
      ]
    },
    {
      "cell_type": "markdown",
      "metadata": {
        "id": "08osX622cDGz"
      },
      "source": [
        "Чтобы проводить вычисления на GPU, в PyTorch необходимо руками перекладывать объекты, с которыми вы хотите проводить вычисления, на графический ускоритель. Это делается следующим образрм:"
      ]
    },
    {
      "cell_type": "code",
      "execution_count": 16,
      "metadata": {
        "id": "56hDOMCFcDZX",
        "colab": {
          "base_uri": "https://localhost:8080/"
        },
        "outputId": "688aafff-b9fd-44bb-d289-e47754d492f6"
      },
      "outputs": [
        {
          "output_type": "stream",
          "name": "stdout",
          "text": [
            "cuda:0\n"
          ]
        }
      ],
      "source": [
        "device = torch.device('cuda:0' if torch.cuda.is_available() else 'cpu')\n",
        "print(device)"
      ]
    },
    {
      "cell_type": "code",
      "execution_count": 17,
      "metadata": {
        "id": "ohnDWbp0qbtC"
      },
      "outputs": [],
      "source": [
        "net = net.to(device)"
      ]
    },
    {
      "cell_type": "markdown",
      "metadata": {
        "id": "H_bOlTVUp5QF"
      },
      "source": [
        "Подключение GPU в google.colab:\n",
        "\n",
        "**Среда выполнения** -> **Сменить среду выполнения** -> **Аппаратный ускоритель** -> **GPU**"
      ]
    },
    {
      "cell_type": "markdown",
      "metadata": {
        "id": "AGi6XX_7_Bgg"
      },
      "source": [
        "## 2. Обучение и тестирование модели (3 балла)"
      ]
    },
    {
      "cell_type": "markdown",
      "metadata": {
        "id": "0agj_MQoO9Ds"
      },
      "source": [
        "**Задание 2.1 (2 балла).** Переходим к обучению модели. Заполните пропуски в функциях <code>test</code> и <code>train_epoch</code>. В качестве функции потерь будем использовать [кросс-энтропию](https://pytorch.org/docs/stable/generated/torch.nn.functional.cross_entropy.html), а в качестве метрики качества accuracy."
      ]
    },
    {
      "cell_type": "code",
      "execution_count": 19,
      "metadata": {
        "id": "g8gsPPRIevDS"
      },
      "outputs": [],
      "source": [
        "def test(model, loader):\n",
        "    loss_log = []\n",
        "    acc_log = []\n",
        "    model.eval()\n",
        "\n",
        "    criterion = nn.CrossEntropyLoss()\n",
        "    for data, target in loader:\n",
        "        data = data.to(device)\n",
        "        target = target.to(device)\n",
        "\n",
        "        out = model(data)\n",
        "        loss = criterion(out, target)\n",
        "        \n",
        "        loss_log.append(loss.item())\n",
        "        n = target.shape[0]\n",
        "        acc = (torch.argmax(out, dim=1) == target).sum() / n\n",
        "        acc_log.append(acc.item()) \n",
        "        \n",
        "    return np.mean(loss_log), np.mean(acc_log)\n",
        "\n",
        "def train_epoch(model, optimizer, train_loader):\n",
        "    loss_log = []\n",
        "    acc_log = []\n",
        "    model.train()\n",
        "    \n",
        "    criterion = nn.CrossEntropyLoss()\n",
        "    for data, target in train_loader:\n",
        "        data = data.to(device)\n",
        "        target = target.to(device)\n",
        "\n",
        "        optimizer.zero_grad()\n",
        "        out = model(data)\n",
        "\n",
        "        loss = criterion(out, target)\n",
        "        \n",
        "        \n",
        "        loss_log.append(loss.item())\n",
        "        loss.backward()\n",
        "        optimizer.step()\n",
        "        n = target.shape[0]\n",
        "        acc = (torch.argmax(out, dim=1) == target).sum() / n\n",
        "\n",
        "\n",
        "        acc_log.append(acc.item()) \n",
        "\n",
        "    return loss_log, acc_log\n",
        "\n",
        "def train(model, optimizer, n_epochs, train_loader, val_loader, scheduler=None):\n",
        "    train_loss_log, train_acc_log, val_loss_log, val_acc_log = [], [], [], []\n",
        "\n",
        "    for epoch in range(n_epochs):\n",
        "        train_loss, train_acc = train_epoch(model, optimizer, train_loader)\n",
        "        val_loss, val_acc = test(model, val_loader)\n",
        "        \n",
        "        train_loss_log.extend(train_loss)\n",
        "        train_acc_log.extend(train_acc)\n",
        "\n",
        "        val_loss_log.append(val_loss)\n",
        "        val_acc_log.append(val_acc)\n",
        "\n",
        "        print(f\"Epoch {epoch}\")\n",
        "        print(f\" train loss: {np.mean(train_loss)}, train acc: {np.mean(train_acc)}\")\n",
        "        print(f\" val loss: {val_loss}, val acc: {val_acc}\\n\")\n",
        "        \n",
        "        if scheduler is not None:\n",
        "            scheduler.step()\n",
        "\n",
        "    return train_loss_log, train_acc_log, val_loss_log, val_acc_log"
      ]
    },
    {
      "cell_type": "markdown",
      "metadata": {
        "id": "iSOqk_CAO9Dt"
      },
      "source": [
        "Запустим обучение модели. В качестве оптимизатора будем использовать стохастический градиентный спуск, который является де-факто стандартом в задачах компьютерного зрения (наравне с <code>Adam</code>).\n",
        "\n",
        "__Замечание:__ Для достижения наилучшего качества в нашем случае потребуется обучать модель несколько сотен эпох. Однако в целях экономии вашего времени и сил, во всех экспериментах мы ограничимся 20 эпохами."
      ]
    },
    {
      "cell_type": "code",
      "execution_count": 20,
      "metadata": {
        "id": "MKZBGhuAgMDu",
        "scrolled": true,
        "colab": {
          "base_uri": "https://localhost:8080/"
        },
        "outputId": "0f58a00e-1745-4912-da04-9166bc8b346d"
      },
      "outputs": [
        {
          "output_type": "stream",
          "name": "stdout",
          "text": [
            "Epoch 0\n",
            " train loss: 1.495966633887352, train acc: 0.46798690919248453\n",
            " val loss: 1.30910865043072, val acc: 0.5262632978723404\n",
            "\n",
            "Epoch 1\n",
            " train loss: 1.1896302557296683, train acc: 0.5813650758000571\n",
            " val loss: 1.087509170238008, val acc: 0.6218085106382979\n",
            "\n",
            "Epoch 2\n",
            " train loss: 1.0690427828968334, train acc: 0.6277218269255741\n",
            " val loss: 1.0875375209970677, val acc: 0.6252216313747649\n",
            "\n",
            "Epoch 3\n",
            " train loss: 1.0061668633760874, train acc: 0.6514796617915904\n",
            " val loss: 1.0042066566487575, val acc: 0.6542553191489362\n",
            "\n",
            "Epoch 4\n",
            " train loss: 0.9602945506899623, train acc: 0.6641461544106604\n",
            " val loss: 1.0014160168931838, val acc: 0.6498226950777338\n",
            "\n",
            "Epoch 5\n",
            " train loss: 0.9225116918030343, train acc: 0.6791345652540162\n",
            " val loss: 0.999242228903669, val acc: 0.6523271276595745\n",
            "\n",
            "Epoch 6\n",
            " train loss: 0.9010948148680343, train acc: 0.6856718464351006\n",
            " val loss: 1.0020840178144739, val acc: 0.6553191489361702\n",
            "\n",
            "Epoch 7\n",
            " train loss: 0.8848506012281072, train acc: 0.6910094019481862\n",
            " val loss: 0.9291599228027019, val acc: 0.6796320922831272\n",
            "\n",
            "Epoch 8\n",
            " train loss: 0.8681488382533002, train acc: 0.6977139919505913\n",
            " val loss: 0.9319614017263372, val acc: 0.679188829787234\n",
            "\n",
            "Epoch 9\n",
            " train loss: 0.8433036019640823, train acc: 0.7071852965154422\n",
            " val loss: 0.8870688605815806, val acc: 0.6959219859001484\n",
            "\n",
            "Epoch 10\n",
            " train loss: 0.8240277987293613, train acc: 0.7145958475264597\n",
            " val loss: 0.9335324556269544, val acc: 0.6801418441407224\n",
            "\n",
            "Epoch 11\n",
            " train loss: 0.8180268388888517, train acc: 0.7151426613003942\n",
            " val loss: 0.8945437030589327, val acc: 0.6902925531914894\n",
            "\n",
            "Epoch 12\n",
            " train loss: 0.8049914566646764, train acc: 0.7207617851236403\n",
            " val loss: 0.8746996608186275, val acc: 0.6958776595744681\n",
            "\n",
            "Epoch 13\n",
            " train loss: 0.7924379988605841, train acc: 0.7272337752460779\n",
            " val loss: 0.8783865751104152, val acc: 0.7037677305809995\n",
            "\n",
            "Epoch 14\n",
            " train loss: 0.784497177034235, train acc: 0.7276744907909163\n",
            " val loss: 0.9292881374663495, val acc: 0.6826462765957447\n",
            "\n",
            "Epoch 15\n",
            " train loss: 0.7729615237311863, train acc: 0.730657482386943\n",
            " val loss: 0.863930762321391, val acc: 0.7025487590343394\n",
            "\n",
            "Epoch 16\n",
            " train loss: 0.7654517412294636, train acc: 0.7352605118829981\n",
            " val loss: 0.9603890738588698, val acc: 0.670035461161999\n",
            "\n",
            "Epoch 17\n",
            " train loss: 0.7582097837541395, train acc: 0.7365826587354461\n",
            " val loss: 0.8406063899080805, val acc: 0.7164228723404256\n",
            "\n",
            "Epoch 18\n",
            " train loss: 0.7550577496261875, train acc: 0.7357950836038677\n",
            " val loss: 0.8569706191407873, val acc: 0.7066046100981692\n",
            "\n",
            "Epoch 19\n",
            " train loss: 0.7455431694195519, train acc: 0.7420263123686615\n",
            " val loss: 0.8380236301016301, val acc: 0.711436170212766\n",
            "\n"
          ]
        }
      ],
      "source": [
        "optimizer = optim.SGD(net.parameters(), lr=0.1, momentum=0.9)\n",
        "train_loss_log, train_acc_log, val_loss_log, val_acc_log = train(net, optimizer, 20, train_loader, val_loader)"
      ]
    },
    {
      "cell_type": "markdown",
      "metadata": {
        "id": "gUb1jQW8O9Dt"
      },
      "source": [
        "Посчитайте точность на тестовой выборке:"
      ]
    },
    {
      "cell_type": "code",
      "execution_count": 21,
      "metadata": {
        "id": "Jyuc55B9_Amc",
        "colab": {
          "base_uri": "https://localhost:8080/"
        },
        "outputId": "0f3ef0d4-99b6-4e45-9167-6d2688d8920d"
      },
      "outputs": [
        {
          "output_type": "stream",
          "name": "stdout",
          "text": [
            "loss on test  0.8640419734511405\n",
            "acc on test  0.7032245222929936\n"
          ]
        }
      ],
      "source": [
        "t_loss, t_acc = test(net, test_loader)\n",
        "print(\"loss on test \", t_loss)\n",
        "print(\"acc on test \", t_acc)"
      ]
    },
    {
      "cell_type": "markdown",
      "metadata": {
        "id": "zM38Q9fwO9Dt"
      },
      "source": [
        "Если вы все сделали правильно, у вас должна была получиться точность $\\ge 67\\%$."
      ]
    },
    {
      "cell_type": "markdown",
      "metadata": {
        "id": "DHFNSKcoO9Dt"
      },
      "source": [
        "**Задание 2.2 (1 балл).** Постройте графики зависимости функции потерь и точности классификации от номера шага оптимизатора. На каждом графике расположите данные и для обучающей и для валидационной выборки, итого у вас должно получиться два графика. Обратите внимание, что на обучающей выборке эти данные считаются по каждому батчу, на валидационной же они считаются по всей выборке раз в эпоху."
      ]
    },
    {
      "cell_type": "code",
      "execution_count": 31,
      "metadata": {
        "id": "LzIP0tGLO9Dt",
        "colab": {
          "base_uri": "https://localhost:8080/",
          "height": 334
        },
        "outputId": "ebd34259-5212-4e08-9d9d-7458d32e2bf4"
      },
      "outputs": [
        {
          "output_type": "display_data",
          "data": {
            "text/plain": [
              "<Figure size 1440x360 with 1 Axes>"
            ],
            "image/png": "[encoded data removed]"
          },
          "metadata": {
            "needs_background": "light"
          }
        }
      ],
      "source": [
        "from seaborn import lineplot\n",
        "\n",
        "train_loss_mean = []\n",
        "train_acc_mean = []\n",
        "\n",
        "n = len(train_loader.dataset) // 64 + 1\n",
        "for i in range(0, 20 * n, n):\n",
        "    train_loss_mean.append(np.mean(train_loss_log[i: i + n]))\n",
        "    train_acc_mean.append(np.mean(train_acc_log[i: i + n]))\n",
        "\n",
        "plt.figure(figsize=(20, 5))\n",
        "lineplot(data=train_loss_mean)\n",
        "lineplot(data=val_loss_log)\n",
        "lineplot(data=train_acc_mean)\n",
        "lineplot(data=val_acc_log)\n",
        "\n",
        "plt.legend(['train loss', 'val loss', 'train accuracy', 'val accuracy'])\n",
        "plt.xlabel('epoch')\n",
        "plt.show()"
      ]
    },
    {
      "cell_type": "markdown",
      "metadata": {
        "id": "_ttOJPj-O9Dt"
      },
      "source": [
        "## 3. Расписание длины шага (2 балла)"
      ]
    },
    {
      "cell_type": "markdown",
      "metadata": {
        "id": "qiz3JstuO9Dt"
      },
      "source": [
        "С курса \"Машинное обучение 1\" вы уже должны знать, что сходимость стохастического градиентного спуска мы можем теоретически гарантировать только если будем определенным образом со временем уменьшать длину шага. На практике при обучении нейронных сетей такая техника оказывается очень полезной, однако теоретически обоснованными способами уменьшения длины шага фантазия не ограничивается.\n",
        "\n",
        "Одним из простейших способов является кусочно постоянная функция: на нескольких фиксированных эпохах уменьшаем длину шага в константу раз."
      ]
    },
    {
      "cell_type": "code",
      "execution_count": 22,
      "metadata": {
        "id": "V2Z0OT3nO9Du",
        "colab": {
          "base_uri": "https://localhost:8080/"
        },
        "outputId": "df0944ff-e591-4cb1-d3de-2ad320a3b034"
      },
      "outputs": [
        {
          "output_type": "stream",
          "name": "stdout",
          "text": [
            "Epoch 0\n",
            " train loss: 1.5062887788472707, train acc: 0.4622902520395938\n",
            " val loss: 1.29406740411799, val acc: 0.5456560284533399\n",
            "\n",
            "Epoch 1\n",
            " train loss: 1.1931808076567363, train acc: 0.5820098264343778\n",
            " val loss: 1.1763125143152602, val acc: 0.5870345744680852\n",
            "\n",
            "Epoch 2\n",
            " train loss: 1.074634580442195, train acc: 0.6273708866544789\n",
            " val loss: 1.075711659421312, val acc: 0.627061170212766\n",
            "\n",
            "Epoch 3\n",
            " train loss: 1.01409038765121, train acc: 0.6490189997544018\n",
            " val loss: 1.0524766064704734, val acc: 0.6325354610351805\n",
            "\n",
            "Epoch 4\n",
            " train loss: 0.9739833792341257, train acc: 0.6627056672760512\n",
            " val loss: 1.009379037390364, val acc: 0.6515070922831272\n",
            "\n",
            "Epoch 5\n",
            " train loss: 0.9337277251144214, train acc: 0.67609444375012\n",
            " val loss: 0.9599209630742986, val acc: 0.6705895390916378\n",
            "\n",
            "Epoch 6\n",
            " train loss: 0.9168017776836207, train acc: 0.6811300274223034\n",
            " val loss: 0.9726571663897088, val acc: 0.6723182624958931\n",
            "\n",
            "Epoch 7\n",
            " train loss: 0.897013195689897, train acc: 0.6897770305874142\n",
            " val loss: 1.0074072264610452, val acc: 0.6504210993330529\n",
            "\n",
            "Epoch 8\n",
            " train loss: 0.8809107673342529, train acc: 0.6919765278451839\n",
            " val loss: 0.9758892079617115, val acc: 0.6604609930768927\n",
            "\n",
            "Epoch 9\n",
            " train loss: 0.870263389575634, train acc: 0.6969957887799474\n",
            " val loss: 0.959533350772046, val acc: 0.6769060284533399\n",
            "\n",
            "Epoch 10\n",
            " train loss: 0.7620702041568442, train acc: 0.7385209912137968\n",
            " val loss: 0.8445156990213597, val acc: 0.7106161348363187\n",
            "\n",
            "Epoch 11\n",
            " train loss: 0.7436445771122328, train acc: 0.744221728942076\n",
            " val loss: 0.8404375370512618, val acc: 0.711436170212766\n",
            "\n",
            "Epoch 12\n",
            " train loss: 0.7355807597937923, train acc: 0.7465191630602319\n",
            " val loss: 0.8395929465902613, val acc: 0.713408688027808\n",
            "\n",
            "Epoch 13\n",
            " train loss: 0.7322586612466049, train acc: 0.7484819796447126\n",
            " val loss: 0.836729420245962, val acc: 0.7129875888215734\n",
            "\n",
            "Epoch 14\n",
            " train loss: 0.729098406363231, train acc: 0.7485880778738088\n",
            " val loss: 0.8355698201250523, val acc: 0.7138297872340426\n",
            "\n",
            "Epoch 15\n",
            " train loss: 0.7126706587440135, train acc: 0.7551171977951496\n",
            " val loss: 0.8254916690765544, val acc: 0.716910461161999\n",
            "\n",
            "Epoch 16\n",
            " train loss: 0.7105003930423988, train acc: 0.7547295312558929\n",
            " val loss: 0.8255503494688805, val acc: 0.7173980497299357\n",
            "\n",
            "Epoch 17\n",
            " train loss: 0.7094477430340141, train acc: 0.7548845979151821\n",
            " val loss: 0.8242923674431253, val acc: 0.716533688027808\n",
            "\n",
            "Epoch 18\n",
            " train loss: 0.7078289014765724, train acc: 0.7561863411279222\n",
            " val loss: 0.8260482430458069, val acc: 0.7160682624958931\n",
            "\n",
            "Epoch 19\n",
            " train loss: 0.7081594736855035, train acc: 0.7565087163905992\n",
            " val loss: 0.8243945078646883, val acc: 0.718129432708659\n",
            "\n"
          ]
        }
      ],
      "source": [
        "net = BasicBlockNet().to(device)\n",
        "optimizer = optim.SGD(net.parameters(), lr=0.1, momentum=0.9)\n",
        "scheduler = optim.lr_scheduler.MultiStepLR(optimizer, milestones=[10, 15], gamma=0.1)\n",
        "tr_loss_log, tr_acc_log, val_loss_log, val_acc_log = train(net, optimizer, 20, train_loader, val_loader, scheduler)"
      ]
    },
    {
      "cell_type": "markdown",
      "metadata": {
        "id": "5Xc76KvzO9Du"
      },
      "source": [
        "Посчитайте точность на тестовой выборке:"
      ]
    },
    {
      "cell_type": "code",
      "execution_count": 23,
      "metadata": {
        "id": "1AjiYhKqO9Du",
        "colab": {
          "base_uri": "https://localhost:8080/"
        },
        "outputId": "5386cb51-faeb-4b70-d054-ff0d959b349d"
      },
      "outputs": [
        {
          "output_type": "stream",
          "name": "stdout",
          "text": [
            "loss on test  0.8340691969652844\n",
            "acc on test  0.7107882165605095\n"
          ]
        }
      ],
      "source": [
        "t_loss, t_acc = test(net, test_loader)\n",
        "print(\"loss on test \", t_loss)\n",
        "print(\"acc on test \", t_acc)"
      ]
    },
    {
      "cell_type": "markdown",
      "metadata": {
        "id": "yE0dgLYrO9Du"
      },
      "source": [
        "**Задание 3.0 (0.5 баллов).** Здесь может возникнуть вопрос: а что будет, если мы не будем уменьшать длину шага в процессе обучения, а сразу возьмем констатную, равную значению нашей кусочно-постоянной функции на последних эпохах, то есть $0.001$ в нашем случае. Запустите обучение и проверьте, что в таком случае мы получим худшее качество на тестовой выборке."
      ]
    },
    {
      "cell_type": "code",
      "execution_count": 27,
      "metadata": {
        "id": "qZ2iB-LBO9Du",
        "colab": {
          "base_uri": "https://localhost:8080/"
        },
        "outputId": "6404227c-1d3b-4282-e4ef-0c8ea1666cc8"
      },
      "outputs": [
        {
          "output_type": "stream",
          "name": "stdout",
          "text": [
            "Epoch 0\n",
            " train loss: 1.8158455529204234, train acc: 0.36522264301885854\n",
            " val loss: 1.5995611977069937, val acc: 0.43200354614156355\n",
            "\n",
            "Epoch 1\n",
            " train loss: 1.5314164436277566, train acc: 0.46179648738020734\n",
            " val loss: 1.4405252603774374, val acc: 0.49155585106382976\n",
            "\n",
            "Epoch 2\n",
            " train loss: 1.4196048203508422, train acc: 0.4972128820157792\n",
            " val loss: 1.367563792492481, val acc: 0.5193927305809996\n",
            "\n",
            "Epoch 3\n",
            " train loss: 1.3508714180323933, train acc: 0.5269775072442984\n",
            " val loss: 1.3178954403451149, val acc: 0.5355939716734784\n",
            "\n",
            "Epoch 4\n",
            " train loss: 1.2999653722512003, train acc: 0.545785453136486\n",
            " val loss: 1.2677343949358515, val acc: 0.5567597518575952\n",
            "\n",
            "Epoch 5\n",
            " train loss: 1.2536173250383171, train acc: 0.5595251697726834\n",
            " val loss: 1.2485781659471227, val acc: 0.5649601063829788\n",
            "\n",
            "Epoch 6\n",
            " train loss: 1.2148644542781264, train acc: 0.5747339384429415\n",
            " val loss: 1.1958994834981067, val acc: 0.5775709220703612\n",
            "\n",
            "Epoch 7\n",
            " train loss: 1.1785425579744022, train acc: 0.5860333964637254\n",
            " val loss: 1.182038717066988, val acc: 0.5829787234042553\n",
            "\n",
            "Epoch 8\n",
            " train loss: 1.1479250930345037, train acc: 0.5988671977951496\n",
            " val loss: 1.1504234298746636, val acc: 0.5940602837724889\n",
            "\n",
            "Epoch 9\n",
            " train loss: 1.1230159713537644, train acc: 0.607293843133358\n",
            " val loss: 1.1075491605920995, val acc: 0.6150044327086591\n",
            "\n",
            "Epoch 10\n",
            " train loss: 1.0957869674867424, train acc: 0.6172181052961123\n",
            " val loss: 1.1022685441565006, val acc: 0.6124335106382979\n",
            "\n",
            "Epoch 11\n",
            " train loss: 1.0752578080245303, train acc: 0.6266445221151251\n",
            " val loss: 1.0631490403033317, val acc: 0.63125\n",
            "\n",
            "Epoch 12\n",
            " train loss: 1.056739299345278, train acc: 0.6315413619744058\n",
            " val loss: 1.0472250464114736, val acc: 0.6377881207364671\n",
            "\n",
            "Epoch 13\n",
            " train loss: 1.0353557284397006, train acc: 0.6389192675105833\n",
            " val loss: 1.0424932107012324, val acc: 0.6361702127659574\n",
            "\n",
            "Epoch 14\n",
            " train loss: 1.0170398208515299, train acc: 0.6458319731778593\n",
            " val loss: 1.0271068268633903, val acc: 0.6422207446808511\n",
            "\n",
            "Epoch 15\n",
            " train loss: 1.0048087902871086, train acc: 0.6524345456355233\n",
            " val loss: 1.0183884585157355, val acc: 0.6426640071767442\n",
            "\n",
            "Epoch 16\n",
            " train loss: 0.9903351216691068, train acc: 0.6537852572784564\n",
            " val loss: 1.0164205056555728, val acc: 0.6468085106382979\n",
            "\n",
            "Epoch 17\n",
            " train loss: 0.9756743772810077, train acc: 0.6636442282735975\n",
            " val loss: 0.9933734328188795, val acc: 0.653501773134191\n",
            "\n",
            "Epoch 18\n",
            " train loss: 0.9624784871036871, train acc: 0.6673372617805244\n",
            " val loss: 0.9874108583369153, val acc: 0.6567154255319149\n",
            "\n",
            "Epoch 19\n",
            " train loss: 0.9524602357168738, train acc: 0.6693816923790048\n",
            " val loss: 0.9642258819113386, val acc: 0.6658244680851064\n",
            "\n"
          ]
        }
      ],
      "source": [
        "net = BasicBlockNet().to(device)\n",
        "optimizer = optim.SGD(net.parameters(), lr=0.001, momentum=0.9)\n",
        "tr_loss_log, tr_acc_log, val_loss_log, val_acc_log = train(net, optimizer, 20, train_loader, val_loader)"
      ]
    },
    {
      "cell_type": "code",
      "source": [
        "t_loss, t_acc = test(net, test_loader)\n",
        "print(\"loss on test \", t_loss)\n",
        "print(\"acc on test \", t_acc)"
      ],
      "metadata": {
        "colab": {
          "base_uri": "https://localhost:8080/"
        },
        "id": "FNw03DVbnzbJ",
        "outputId": "629dbd35-92d7-4190-a1c6-3fd641cca1c5"
      },
      "execution_count": 28,
      "outputs": [
        {
          "output_type": "stream",
          "name": "stdout",
          "text": [
            "loss on test  0.9673147326821734\n",
            "acc on test  0.6636146496815286\n"
          ]
        }
      ]
    },
    {
      "cell_type": "markdown",
      "metadata": {
        "id": "xVotU378O9Du"
      },
      "source": [
        "**Задание 3.1 (1.5 балла).** Изучите, какие еще способы уменьшения длины шага представлены в <code>torch.optim.lr_scheduler</code>. Выберите несколько из них, объясните, как они устроены, и обучите модель с ними. Удалось ли добиться улучшения качества на тестовой выборке?"
      ]
    },
    {
      "cell_type": "code",
      "execution_count": null,
      "metadata": {
        "id": "nkGlzocOO9Du"
      },
      "outputs": [],
      "source": [
        "# <your code here>"
      ]
    },
    {
      "cell_type": "markdown",
      "metadata": {
        "id": "5a_zMNNVO9Du"
      },
      "source": [
        "Your answers here:"
      ]
    },
    {
      "cell_type": "markdown",
      "metadata": {
        "id": "7xFXgl_3_E--"
      },
      "source": [
        "## 4. Аугментации данных (2 балла)"
      ]
    },
    {
      "cell_type": "markdown",
      "metadata": {
        "id": "5G0Easo9O9Du"
      },
      "source": [
        "Еще одной стандартной техникой, применяющейся в глубинном обучении, а особенно часто в компьютерном зрении, являются аугментации данных. Суть аугментаций состоит в том, что мы можем некоторым синтетическим образом видоизменять объекты обучающей выборки, тем самым расширяя ее, а также делая итоговую модель более устойчивой к таким изменениям.\n",
        "\n",
        "Простейшая аугментация, которую можно применить к картинкам — разворот картинки по горизонтальной оси. То есть при обучении модели с вероятностью $0.5$ мы будем разворачивать картинку из обучающей выборки."
      ]
    },
    {
      "cell_type": "code",
      "execution_count": null,
      "metadata": {
        "id": "SzeFpgtfO9Du"
      },
      "outputs": [],
      "source": [
        "dataiter = iter(train_loader)\n",
        "images, labels = dataiter.next()\n",
        "\n",
        "imshow(torchvision.utils.make_grid(images[:4]))\n",
        "\n",
        "imshow(torchvision.utils.make_grid(transforms.functional.hflip(images[:4])))"
      ]
    },
    {
      "cell_type": "markdown",
      "metadata": {
        "id": "BR4a-XJQO9Du"
      },
      "source": [
        "Наиболее удобным способом работы с аугментациями в PyTorch является их задание в списке <code>transforms</code>, который затем передается в загрузчик данных. Обучим нашу сеть, применяя горизонтальные повороты:"
      ]
    },
    {
      "cell_type": "code",
      "execution_count": null,
      "metadata": {
        "id": "na0ScBf-_AqX",
        "scrolled": true
      },
      "outputs": [],
      "source": [
        "transform = transforms.Compose(\n",
        "        [transforms.RandomHorizontalFlip(),\n",
        "         transforms.ToTensor(),\n",
        "         transforms.Normalize((0.5, 0.5, 0.5), (0.5, 0.5, 0.5))]\n",
        ")\n",
        "\n",
        "train_loader, val_loader, test_loader = get_cifar10_data(batch_size=64, transform_train=transform)\n",
        "\n",
        "net = BasicBlockNet().to(device)\n",
        "optimizer = optim.SGD(net.parameters(), lr=0.1, momentum=0.9)\n",
        "scheduler = optim.lr_scheduler.MultiStepLR(optimizer, milestones=[10, 15], gamma=0.1)\n",
        "tr_loss_log, tr_acc_log, val_loss_log, val_acc_log = train(net, optimizer, 20, train_loader, val_loader, scheduler)"
      ]
    },
    {
      "cell_type": "markdown",
      "metadata": {
        "id": "v3ZIqDQqO9Dv"
      },
      "source": [
        "Посчитайте точность на тестовой выборке:"
      ]
    },
    {
      "cell_type": "code",
      "execution_count": null,
      "metadata": {
        "id": "nNJizMkM_Auh"
      },
      "outputs": [],
      "source": [
        "# <your code here>"
      ]
    },
    {
      "cell_type": "markdown",
      "metadata": {
        "id": "KndehSCHO9Dv"
      },
      "source": [
        "**Задание 4.1 (2 балла).** Изучите, какие еще способы аугментаций изображений представлены в <code>torchvision.transforms</code>. Выберите несколько из них, объясните, как они устроены, и обучите модель с ними (по отдельности и вместе). Удалось ли добиться улучшения качества на тестовой выборке?"
      ]
    },
    {
      "cell_type": "code",
      "execution_count": null,
      "metadata": {
        "id": "Np4rgvdZ_QRF"
      },
      "outputs": [],
      "source": [
        "# <your code here>"
      ]
    },
    {
      "cell_type": "markdown",
      "metadata": {
        "id": "4K-MptLiO9Dv"
      },
      "source": [
        "Your answers here:"
      ]
    },
    {
      "cell_type": "markdown",
      "metadata": {
        "id": "HCENjLw5O9Dv"
      },
      "source": [
        "## Бонус. Логирование в wandb (2 балла)"
      ]
    },
    {
      "cell_type": "markdown",
      "metadata": {
        "id": "xOyzc1mnO9Dv"
      },
      "source": [
        "На практике специалиста по глубинному обучению часто встречаются ситуации, когда нейросеть учится на каком-то удаленном сервере. И обычно вам хочется отслеживать прогресс обучения, особенно когда время обучения модели исчисляется днями или неделями. Для таких целей существует несколько инструментов. Вероятно, самый популярный из них — [wandb](https://wandb.ai/site).\n",
        "\n",
        "Ваша задача состоит в том, чтобы разобраться как им пользоваться, и повторить задания 2.1 и 2.2 с его использованием. Обучение вы можете запускать в этом же ноутбуке, но теперь вам необходимо через wandb логировать значения функции потерь и точности на обучающей выборке и на валидационной. Результатом работы должны быть ваш код и публичная ссылка на страничку с графиками, идентичными графикам в задании 2.2."
      ]
    },
    {
      "cell_type": "code",
      "execution_count": null,
      "metadata": {
        "id": "m5gSTLAr_QS4"
      },
      "outputs": [],
      "source": [
        "# <your code here>"
      ]
    }
  ],
  "metadata": {
    "accelerator": "GPU",
    "colab": {
      "provenance": []
    },
    "kernelspec": {
      "display_name": "Python 3 (ipykernel)",
      "language": "python",
      "name": "python3"
    },
    "language_info": {
      "codemirror_mode": {
        "name": "ipython",
        "version": 3
      },
      "file_extension": ".py",
      "mimetype": "text/x-python",
      "name": "python",
      "nbconvert_exporter": "python",
      "pygments_lexer": "ipython3",
      "version": "3.10.4"
    },
    "gpuClass": "standard"
  },
  "nbformat": 4,
  "nbformat_minor": 0
}